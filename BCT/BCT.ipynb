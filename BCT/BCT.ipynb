{
 "cells": [
  {
   "cell_type": "code",
   "execution_count": 1,
   "id": "86c5440f-4f10-4ec7-9e85-0f14d1de06f3",
   "metadata": {},
   "outputs": [],
   "source": [
    "#############bank.sol###################33"
   ]
  },
  {
   "cell_type": "code",
   "execution_count": 2,
   "id": "3123dc35-f440-48d0-8fe3-641528db4d30",
   "metadata": {},
   "outputs": [
    {
     "ename": "SyntaxError",
     "evalue": "unterminated string literal (detected at line 15) (878587294.py, line 15)",
     "output_type": "error",
     "traceback": [
      "\u001b[1;36m  Cell \u001b[1;32mIn[2], line 15\u001b[1;36m\u001b[0m\n\u001b[1;33m    // Deposit money into the customer's account\u001b[0m\n\u001b[1;37m                                      ^\u001b[0m\n\u001b[1;31mSyntaxError\u001b[0m\u001b[1;31m:\u001b[0m unterminated string literal (detected at line 15)\n"
     ]
    }
   ],
   "source": [
    "// SPDX-License-Identifier: MIT\n",
    "pragma solidity ^0.8.0;\n",
    "\n",
    "contract BankAccount {\n",
    "\n",
    "    // Mapping to store the balance of each customer (address)\n",
    "    mapping(address => uint256) private balances;\n",
    "\n",
    "    // Event to log deposits\n",
    "    event Deposit(address indexed accountHolder, uint256 amount);\n",
    "\n",
    "    // Event to log withdrawals\n",
    "    event Withdraw(address indexed accountHolder, uint256 amount);\n",
    "\n",
    "    // Deposit money into the customer's account\n",
    "    function deposit() public payable {\n",
    "        require(msg.value > 0, \"You must send some Ether to deposit.\");  // Ensure Ether is sent\n",
    "        balances[msg.sender] += msg.value;  // Add deposited amount to the sender's balance\n",
    "        emit Deposit(msg.sender, msg.value);  // Log the deposit event\n",
    "    }\n",
    "\n",
    "    // Withdraw money from the customer's account (in ether)\n",
    "    function withdraw(uint256 amountInEther) public {\n",
    "        uint256 amountInWei = amountInEther * 1 ether;  // Convert the withdrawal amount to wei\n",
    "        require(amountInWei > 0, \"Withdrawal amount must be greater than zero.\");\n",
    "        require(amountInWei <= balances[msg.sender], \"Insufficient balance.\");\n",
    "\n",
    "        // Transfer the specified amount to the sender\n",
    "        payable(msg.sender).transfer(amountInWei);\n",
    "\n",
    "        // Deduct withdrawn amount from sender's balance\n",
    "        balances[msg.sender] -= amountInWei;\n",
    "\n",
    "        // Log the withdrawal event\n",
    "        emit Withdraw(msg.sender, amountInWei);\n",
    "    }\n",
    "\n",
    "    // Check the balance of the customer\n",
    "    function checkBalance() public view returns (uint256) {\n",
    "        return balances[msg.sender];  // Return the balance of the sender\n",
    "    }\n",
    "}"
   ]
  },
  {
   "cell_type": "code",
   "execution_count": 3,
   "id": "46458b76-849f-4963-ac45-979cce77389a",
   "metadata": {},
   "outputs": [],
   "source": [
    "###########student.sol####################"
   ]
  },
  {
   "cell_type": "code",
   "execution_count": 4,
   "id": "c69c49b1-4fe5-44d3-9e97-98b385248708",
   "metadata": {},
   "outputs": [
    {
     "ename": "SyntaxError",
     "evalue": "invalid syntax (4184613432.py, line 1)",
     "output_type": "error",
     "traceback": [
      "\u001b[1;36m  Cell \u001b[1;32mIn[4], line 1\u001b[1;36m\u001b[0m\n\u001b[1;33m    // SPDX-License-Identifier: MIT\u001b[0m\n\u001b[1;37m    ^\u001b[0m\n\u001b[1;31mSyntaxError\u001b[0m\u001b[1;31m:\u001b[0m invalid syntax\n"
     ]
    }
   ],
   "source": [
    "// SPDX-License-Identifier: MIT\n",
    "pragma solidity ^0.8.0;\n",
    "\n",
    "contract StudentData {\n",
    "    // Structure to store student information\n",
    "    struct Student {\n",
    "        string name;\n",
    "        uint256 age;\n",
    "        uint256 id;\n",
    "    }\n",
    "\n",
    "    // Dynamic array to store students (private)\n",
    "    Student[] private students;\n",
    "\n",
    "    // Event to emit when a student is added\n",
    "    event StudentAdded(string name, uint256 age, uint256 id);\n",
    "\n",
    "    // Function to add a new student\n",
    "    function addStudent(string memory _name, uint256 _age, uint256 _id) public {\n",
    "        Student memory newStudent = Student({\n",
    "            name: _name,\n",
    "            age: _age,\n",
    "            id: _id\n",
    "        });\n",
    "        \n",
    "        students.push(newStudent);\n",
    "        emit StudentAdded(_name, _age, _id);\n",
    "    }\n",
    "\n",
    "    // Function to retrieve student information by index\n",
    "    function getStudent(uint256 index) public view returns (string memory, uint256, uint256) {\n",
    "        require(index < students.length, \"Student does not exist.\");\n",
    "        Student memory student = students[index];\n",
    "        return (student.name, student.age, student.id);\n",
    "    }\n",
    "\n",
    "    // Function to get the total number of students\n",
    "    function getTotalStudents() public view returns (uint256) {\n",
    "        return students.length;\n",
    "    }\n",
    "\n",
    "    // Fallback function to receive Ether\n",
    "    receive() external payable {\n",
    "        // Fallback function can be used to accept ether\n",
    "    }\n",
    "}"
   ]
  },
  {
   "cell_type": "code",
   "execution_count": null,
   "id": "6836079a-f308-4bd7-9f4b-bda7d52b2b98",
   "metadata": {},
   "outputs": [],
   "source": []
  }
 ],
 "metadata": {
  "kernelspec": {
   "display_name": "Python 3 (ipykernel)",
   "language": "python",
   "name": "python3"
  },
  "language_info": {
   "codemirror_mode": {
    "name": "ipython",
    "version": 3
   },
   "file_extension": ".py",
   "mimetype": "text/x-python",
   "name": "python",
   "nbconvert_exporter": "python",
   "pygments_lexer": "ipython3",
   "version": "3.10.2"
  }
 },
 "nbformat": 4,
 "nbformat_minor": 5
}
