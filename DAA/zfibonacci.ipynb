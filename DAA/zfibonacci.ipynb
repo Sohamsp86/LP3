{
 "cells": [
  {
   "cell_type": "code",
   "execution_count": 4,
   "id": "407013b0-5ab6-4b73-9657-4e4ee9264536",
   "metadata": {},
   "outputs": [
    {
     "name": "stdin",
     "output_type": "stream",
     "text": [
      "Enter position: 12\n"
     ]
    },
    {
     "name": "stdout",
     "output_type": "stream",
     "text": [
      "fib num at 12:  144\n",
      "step count= 12\n"
     ]
    }
   ],
   "source": [
    "def fib(n,stepcnt=1):\n",
    "    if n<=1:\n",
    "        return n,stepcnt\n",
    "    fib1,stepcnt1=fib(n-1,stepcnt+1)\n",
    "    fib2,stepcnt2=fib(n-2,stepcnt+1)\n",
    "    return fib1+fib2,max(stepcnt1,stepcnt2)\n",
    "n=int(input(\"Enter position:\"))\n",
    "if(n<0):\n",
    "    print(\"non neg no needed\")\n",
    "else:\n",
    "    fibnum,stpcnt=fib(n)\n",
    "    print(f\"fib num at {n}: \",fibnum)\n",
    "    print(f\"step count= {stpcnt}\")"
   ]
  },
  {
   "cell_type": "code",
   "execution_count": 2,
   "id": "347d3115-50a1-45f1-b4fa-aa061c10baa9",
   "metadata": {},
   "outputs": [
    {
     "name": "stdin",
     "output_type": "stream",
     "text": [
      "Enter the position of the Fibonacci number you want to calculate:  12\n"
     ]
    },
    {
     "name": "stdout",
     "output_type": "stream",
     "text": [
      "Fibonacci number at position 12 is 144\n",
      "Number of steps taken: 12\n"
     ]
    }
   ],
   "source": [
    "def fibonacci(n):\n",
    "    if n <= 1:\n",
    "        return n, 1  # Return the value and step count (1 step for this condition)\n",
    "    \n",
    "    a, b = 0, 1\n",
    "    step_count = 1  # Starting step count for initial setup\n",
    "    for _ in range(2, n + 1):\n",
    "        a, b = b, a + b\n",
    "        step_count += 1  # Each loop iteration is considered a step\n",
    "\n",
    "    return b, step_count\n",
    "\n",
    "# Get input from the user\n",
    "n = int(input(\"Enter the position of the Fibonacci number you want to calculate: \"))\n",
    "if n<0:\n",
    "    print(\"non negative daal\")\n",
    "else:\n",
    "    fib_num, steps = fibonacci(n)\n",
    "    print(f\"Fibonacci number at position {n} is {fib_num}\")\n",
    "    print(f\"Number of steps taken: {steps}\")\n"
   ]
  },
  {
   "cell_type": "code",
   "execution_count": null,
   "id": "eb4b1fd4-8b01-493d-8bd2-b21a1c3349e3",
   "metadata": {},
   "outputs": [],
   "source": []
  }
 ],
 "metadata": {
  "kernelspec": {
   "display_name": "Python 3 (ipykernel)",
   "language": "python",
   "name": "python3"
  },
  "language_info": {
   "codemirror_mode": {
    "name": "ipython",
    "version": 3
   },
   "file_extension": ".py",
   "mimetype": "text/x-python",
   "name": "python",
   "nbconvert_exporter": "python",
   "pygments_lexer": "ipython3",
   "version": "3.10.2"
  }
 },
 "nbformat": 4,
 "nbformat_minor": 5
}
