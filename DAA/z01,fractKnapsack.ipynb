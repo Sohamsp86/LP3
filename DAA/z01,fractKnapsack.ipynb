{
 "cells": [
  {
   "cell_type": "code",
   "execution_count": 9,
   "id": "3e8f8fb1-d6f6-4e92-9016-4d3be92b0716",
   "metadata": {},
   "outputs": [],
   "source": [
    "#######################0-1 KNAPSACK###########################3"
   ]
  },
  {
   "cell_type": "code",
   "execution_count": 5,
   "id": "80de7717-bd09-4845-ba31-c9996b8787a7",
   "metadata": {},
   "outputs": [
    {
     "name": "stdin",
     "output_type": "stream",
     "text": [
      "Enter the number of items:  3\n",
      "Enter value of item 1:  60\n",
      "Enter weight of item 1:  10\n",
      "Enter value of item 2:  100\n",
      "Enter weight of item 2:  20\n",
      "Enter value of item 3:  120\n",
      "Enter weight of item 3:  30\n",
      "Enter the capacity of the knapsack:  50\n"
     ]
    },
    {
     "name": "stdout",
     "output_type": "stream",
     "text": [
      "Maximum value in the knapsack: 220\n"
     ]
    }
   ],
   "source": [
    "# Function to solve the 0-1 Knapsack problem using dynamic programming\n",
    "def knapsack(values, weights, capacity):\n",
    "    n = len(values)\n",
    "    # Create a DP table to store the maximum value for each weight limit up to the given capacity\n",
    "    dp = [[0 for _ in range(capacity + 1)] for _ in range(n + 1)]\n",
    "\n",
    "    # Fill the DP table\n",
    "    for i in range(1, n + 1):\n",
    "        for w in range(1, capacity + 1):\n",
    "            if weights[i - 1] <= w:        ##########\n",
    "                # Maximize by either including the item or excluding it\n",
    "                dp[i][w] = max(dp[i - 1][w], values[i - 1] + dp[i - 1][w - weights[i - 1]])\n",
    "            else:\n",
    "                # Exclude the item if it exceeds the current weight limit\n",
    "                dp[i][w] = dp[i - 1][w]\n",
    "\n",
    "    return dp[n][capacity]\n",
    "\n",
    "# Taking user input\n",
    "n = int(input(\"Enter the number of items: \"))\n",
    "values = []\n",
    "weights = []\n",
    "\n",
    "for i in range(n):\n",
    "    value = int(input(f\"Enter value of item {i+1}: \"))\n",
    "    weight = int(input(f\"Enter weight of item {i+1}: \"))\n",
    "    values.append(value)\n",
    "    weights.append(weight)\n",
    "\n",
    "capacity = int(input(\"Enter the capacity of the knapsack: \"))\n",
    "\n",
    "# Solve the knapsack problem\n",
    "max_value = knapsack(values, weights, capacity)\n",
    "print(f\"Maximum value in the knapsack: {max_value}\")\n"
   ]
  },
  {
   "cell_type": "code",
   "execution_count": null,
   "id": "f7fad4e2-2df1-4113-851e-c4deb66b7317",
   "metadata": {},
   "outputs": [],
   "source": [
    "###########FRACTIONAL KNAPSACK#################"
   ]
  },
  {
   "cell_type": "code",
   "execution_count": 8,
   "id": "547efcf0-fc53-45fa-ad6e-73842f0108aa",
   "metadata": {},
   "outputs": [
    {
     "name": "stdin",
     "output_type": "stream",
     "text": [
      "Enter the number of items:  3\n",
      "Enter value of item 1:  60\n",
      "Enter weight of item 1:  10\n",
      "Enter value of item 2:  100\n",
      "Enter weight of item 2:  20\n",
      "Enter value of item 3:  120\n",
      "Enter weight of item 3:  30\n",
      "Enter the capacity of the knapsack:  50\n"
     ]
    },
    {
     "name": "stdout",
     "output_type": "stream",
     "text": [
      "Maximum value in the knapsack: 240.00\n"
     ]
    }
   ],
   "source": [
    "# Define an item class to store item details (value and weight)\n",
    "class Item:\n",
    "    def __init__(self, value, weight):\n",
    "        self.value = value\n",
    "        self.weight = weight\n",
    "        self.ratio = value / weight  # Calculate value-to-weight ratio\n",
    "\n",
    "# Function to perform fractional knapsack\n",
    "def fractional_knapsack(values, weights, capacity):\n",
    "    n = len(values)\n",
    "    \n",
    "    # Create a list of items\n",
    "    items = [Item(values[i], weights[i]) for i in range(n)]\n",
    "    \n",
    "    # Sort items by their value-to-weight ratio in descending order\n",
    "    items.sort(key=lambda x: x.ratio, reverse=True)\n",
    "\n",
    "    total_value = 0.0  # Total value accumulated in the knapsack\n",
    "    for item in items:\n",
    "        if capacity >= item.weight:\n",
    "            # If the full item can fit, take all of it\n",
    "            total_value += item.value\n",
    "            capacity -= item.weight\n",
    "        else:\n",
    "            # Take only a fraction of the item\n",
    "            total_value += item.ratio * capacity\n",
    "            break  # Knapsack is now full\n",
    "\n",
    "    return total_value\n",
    "\n",
    "# Taking user input\n",
    "n = int(input(\"Enter the number of items: \"))\n",
    "values = []\n",
    "weights = []\n",
    "\n",
    "for i in range(n):\n",
    "    value = int(input(f\"Enter value of item {i+1}: \"))\n",
    "    weight = int(input(f\"Enter weight of item {i+1}: \"))\n",
    "    values.append(value)\n",
    "    weights.append(weight)\n",
    "\n",
    "capacity = int(input(\"Enter the capacity of the knapsack: \"))\n",
    "\n",
    "# Solve the fractional knapsack problem\n",
    "max_value = fractional_knapsack(values, weights, capacity)\n",
    "print(f\"Maximum value in the knapsack: {max_value:.2f}\")\n"
   ]
  },
  {
   "cell_type": "code",
   "execution_count": null,
   "id": "a4aadab5-c9cf-45a0-941d-250c605d5f5a",
   "metadata": {},
   "outputs": [],
   "source": []
  }
 ],
 "metadata": {
  "kernelspec": {
   "display_name": "Python 3 (ipykernel)",
   "language": "python",
   "name": "python3"
  },
  "language_info": {
   "codemirror_mode": {
    "name": "ipython",
    "version": 3
   },
   "file_extension": ".py",
   "mimetype": "text/x-python",
   "name": "python",
   "nbconvert_exporter": "python",
   "pygments_lexer": "ipython3",
   "version": "3.10.2"
  }
 },
 "nbformat": 4,
 "nbformat_minor": 5
}
